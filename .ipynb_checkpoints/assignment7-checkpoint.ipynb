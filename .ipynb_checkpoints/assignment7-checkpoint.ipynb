{
 "cells": [
  {
   "cell_type": "code",
   "execution_count": null,
   "id": "dfd7a2b5-ede4-480c-aa2b-29646c50b3b1",
   "metadata": {},
   "outputs": [],
   "source": [
    "import dash;\n",
    "\n",
    "import pandas as pd;\n",
    "import numpy as np;\n",
    "import plotly.express as px;\n",
    "\n",
    "from dash import dcc, html;"
   ]
  },
  {
   "cell_type": "code",
   "execution_count": null,
   "id": "a6661c0a-36cb-4a39-b609-33821452f455",
   "metadata": {},
   "outputs": [],
   "source": [
    "general_data = pd.read_csv(\"general_team_data.csv\");\n",
    "winner_runnerup_data = pd.read_csv(\"winner_runnerup_data.csv\");\n"
   ]
  }
 ],
 "metadata": {
  "kernelspec": {
   "display_name": "Python 3 (ipykernel)",
   "language": "python",
   "name": "python3"
  },
  "language_info": {
   "codemirror_mode": {
    "name": "ipython",
    "version": 3
   },
   "file_extension": ".py",
   "mimetype": "text/x-python",
   "name": "python",
   "nbconvert_exporter": "python",
   "pygments_lexer": "ipython3",
   "version": "3.12.3"
  }
 },
 "nbformat": 4,
 "nbformat_minor": 5
}
