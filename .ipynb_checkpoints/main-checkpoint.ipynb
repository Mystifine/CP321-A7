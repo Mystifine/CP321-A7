{
 "cells": [
  {
   "cell_type": "code",
   "execution_count": 2,
   "id": "760f837e-64ff-41d2-9f30-2677c5f782f2",
   "metadata": {},
   "outputs": [],
   "source": [
    "import dash;\n",
    "\n",
    "import pandas as pd;\n",
    "import numpy as np;\n",
    "import plotly.express as px;\n",
    "\n",
    "from dash import dcc, html;"
   ]
  },
  {
   "cell_type": "code",
   "execution_count": 4,
   "id": "37fa1fd9-af96-4272-be85-952abbad7c0a",
   "metadata": {},
   "outputs": [],
   "source": [
    "general_data = pd.read_csv(\"general_team_data.csv\");\n",
    "winner_runnerup_data = pd.read_csv(\"winner_runnerup_data.csv\");\n"
   ]
  },
  {
   "cell_type": "code",
   "execution_count": null,
   "id": "855d62eb-1c80-430c-b396-9c386aecf5e5",
   "metadata": {},
   "outputs": [],
   "source": []
  }
 ],
 "metadata": {
  "kernelspec": {
   "display_name": "Python 3 (ipykernel)",
   "language": "python",
   "name": "python3"
  },
  "language_info": {
   "codemirror_mode": {
    "name": "ipython",
    "version": 3
   },
   "file_extension": ".py",
   "mimetype": "text/x-python",
   "name": "python",
   "nbconvert_exporter": "python",
   "pygments_lexer": "ipython3",
   "version": "3.12.3"
  }
 },
 "nbformat": 4,
 "nbformat_minor": 5
}
